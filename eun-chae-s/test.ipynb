{
 "cells": [
  {
   "cell_type": "markdown",
   "metadata": {},
   "source": [
    "# Rachel's First Marimo Notebook\n",
    "\n",
    "##### January 10, 2025"
   ]
  },
  {
   "cell_type": "markdown",
   "metadata": {},
   "source": [
    "This document contains some Python code and a simple plugin using AnyWidget."
   ]
  },
  {
   "cell_type": "code",
   "execution_count": 7,
   "metadata": {},
   "outputs": [
    {
     "name": "stdout",
     "output_type": "stream",
     "text": [
      "Welcome to my notebook!\n",
      "*\n",
      "**\n",
      "****\n",
      "********\n"
     ]
    }
   ],
   "source": [
    "print(\"Welcome to my notebook!\")\n",
    "# print out some stars\n",
    "for i in range(4):\n",
    "    print(\"*\" * (2 ** i))"
   ]
  },
  {
   "cell_type": "markdown",
   "metadata": {},
   "source": [
    "### Plugin Activity"
   ]
  },
  {
   "cell_type": "markdown",
   "metadata": {},
   "source": [
    "Installing `anywidget`"
   ]
  },
  {
   "cell_type": "code",
   "execution_count": null,
   "metadata": {},
   "outputs": [],
   "source": [
    "# !pip install --quiet anywidget\n",
    "%pip install \"anywidget[dev]\""
   ]
  },
  {
   "cell_type": "code",
   "execution_count": 1,
   "metadata": {},
   "outputs": [
    {
     "data": {
      "application/vnd.jupyter.widget-view+json": {
       "model_id": "296db77442574a32991b858baa790b2a",
       "version_major": 2,
       "version_minor": 1
      },
      "text/plain": [
       "CounterWidget(value=42)"
      ]
     },
     "execution_count": 1,
     "metadata": {},
     "output_type": "execute_result"
    }
   ],
   "source": [
    "import anywidget\n",
    "import traitlets\n",
    "\n",
    "class CounterWidget(anywidget.AnyWidget):\n",
    "    _esm = \"\"\"\n",
    "    function render({ model, el }) {\n",
    "      let button = document.createElement(\"button\");\n",
    "      button.innerHTML = `count is ${model.get(\"value\")}`;\n",
    "      button.addEventListener(\"click\", () => {\n",
    "        model.set(\"value\", model.get(\"value\") + 1);\n",
    "        model.save_changes();\n",
    "      });\n",
    "      model.on(\"change:value\", () => {\n",
    "        button.innerHTML = `count is ${model.get(\"value\")}`;\n",
    "      });\n",
    "      el.classList.add(\"counter-widget\");\n",
    "      el.appendChild(button);\n",
    "    }\n",
    "    export default { render };\n",
    "    \"\"\"\n",
    "    _css = \"\"\"\n",
    "    .counter-widget button { color: white; font-size: 1.75rem; background-color: #ea580c; padding: 0.5rem 1rem; border: none; border-radius: 0.25rem; }\n",
    "    .counter-widget button:hover { background-color: #9a3412; }\n",
    "    \"\"\"\n",
    "    value = traitlets.Int(0).tag(sync=True)\n",
    "\n",
    "CounterWidget(value=42)"
   ]
  }
 ],
 "metadata": {
  "kernelspec": {
   "display_name": ".venv",
   "language": "python",
   "name": "python3"
  },
  "language_info": {
   "codemirror_mode": {
    "name": "ipython",
    "version": 3
   },
   "file_extension": ".py",
   "mimetype": "text/x-python",
   "name": "python",
   "nbconvert_exporter": "python",
   "pygments_lexer": "ipython3",
   "version": "3.9.1"
  }
 },
 "nbformat": 4,
 "nbformat_minor": 2
}
